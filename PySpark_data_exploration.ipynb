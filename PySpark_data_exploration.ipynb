{
 "cells": [
  {
   "cell_type": "code",
   "execution_count": 1,
   "metadata": {},
   "outputs": [],
   "source": [
    "from pyspark.sql.types import BooleanType\n",
    "from pyspark.sql.functions import udf\n",
    "from pyspark.sql import functions as F\n",
    "from pyspark.sql import SparkSession\n",
    "from pyspark.sql import Window"
   ]
  },
  {
   "cell_type": "code",
   "execution_count": 2,
   "metadata": {},
   "outputs": [],
   "source": [
    "# create spark session\n",
    "spark = SparkSession.builder.getOrCreate()"
   ]
  },
  {
   "cell_type": "code",
   "execution_count": 3,
   "metadata": {},
   "outputs": [],
   "source": [
    "# create a new dataframe from csv file\n",
    "# when inferSchema is True spark scans the file once to detect the schema\n",
    "companies = spark.read.csv(\n",
    "            \"companies_sorted.csv\", \n",
    "            header=True, inferSchema=True)"
   ]
  },
  {
   "cell_type": "code",
   "execution_count": 4,
   "metadata": {},
   "outputs": [
    {
     "data": {
      "text/plain": [
       "7173438"
      ]
     },
     "execution_count": 4,
     "metadata": {},
     "output_type": "execute_result"
    }
   ],
   "source": [
    "# examine record count\n",
    "companies.count()"
   ]
  },
  {
   "cell_type": "code",
   "execution_count": 5,
   "metadata": {},
   "outputs": [
    {
     "data": {
      "text/plain": [
       "[('_c0', 'string'),\n",
       " ('name', 'string'),\n",
       " ('domain', 'string'),\n",
       " ('year founded', 'string'),\n",
       " ('industry', 'string'),\n",
       " ('size range', 'string'),\n",
       " ('locality', 'string'),\n",
       " ('country', 'string'),\n",
       " ('linkedin url', 'string'),\n",
       " ('current employee estimate', 'string'),\n",
       " ('total employee estimate', 'string')]"
      ]
     },
     "execution_count": 5,
     "metadata": {},
     "output_type": "execute_result"
    }
   ],
   "source": [
    "# review schema detected, note that all columns are detected as a string\n",
    "companies.dtypes"
   ]
  },
  {
   "cell_type": "code",
   "execution_count": 6,
   "metadata": {},
   "outputs": [
    {
     "data": {
      "text/plain": [
       "[Row(_c0='5872184', name='ibm', domain='ibm.com', year founded='1911.0', industry='information technology and services', size range='10001+', locality='new york, new york, united states', country='united states', linkedin url='linkedin.com/company/ibm', current employee estimate='274047', total employee estimate='716906'),\n",
       " Row(_c0='4425416', name='tata consultancy services', domain='tcs.com', year founded='1968.0', industry='information technology and services', size range='10001+', locality='bombay, maharashtra, india', country='india', linkedin url='linkedin.com/company/tata-consultancy-services', current employee estimate='190771', total employee estimate='341369'),\n",
       " Row(_c0='21074', name='accenture', domain='accenture.com', year founded='1989.0', industry='information technology and services', size range='10001+', locality='dublin, dublin, ireland', country='ireland', linkedin url='linkedin.com/company/accenture', current employee estimate='190689', total employee estimate='455768'),\n",
       " Row(_c0='2309813', name='us army', domain='goarmy.com', year founded='1800.0', industry='military', size range='10001+', locality='alexandria, virginia, united states', country='united states', linkedin url='linkedin.com/company/us-army', current employee estimate='162163', total employee estimate='445958'),\n",
       " Row(_c0='1558607', name='ey', domain='ey.com', year founded='1989.0', industry='accounting', size range='10001+', locality='london, greater london, united kingdom', country='united kingdom', linkedin url='linkedin.com/company/ernstandyoung', current employee estimate='158363', total employee estimate='428960'),\n",
       " Row(_c0='3844889', name='hewlett-packard', domain='hpe.com', year founded='1939.0', industry='information technology and services', size range='10001+', locality='palo alto, california, united states', country='united states', linkedin url='linkedin.com/company/hewlett-packard-enterprise', current employee estimate='127952', total employee estimate='412952'),\n",
       " Row(_c0='2959148', name='cognizant technology solutions', domain='cognizant.com', year founded='1994.0', industry='information technology and services', size range='10001+', locality='teaneck, new jersey, united states', country='united states', linkedin url='linkedin.com/company/cognizant', current employee estimate='122031', total employee estimate='210020'),\n",
       " Row(_c0='5944912', name='walmart', domain='walmartcareers.com', year founded='1962.0', industry='retail', size range='10001+', locality='withee, wisconsin, united states', country='united states', linkedin url='linkedin.com/company/walmart', current employee estimate='120753', total employee estimate='272827'),\n",
       " Row(_c0='3727010', name='microsoft', domain='microsoft.com', year founded='1975.0', industry='computer software', size range='10001+', locality='redmond, washington, united states', country='united states', linkedin url='linkedin.com/company/microsoft', current employee estimate='116196', total employee estimate='276983'),\n",
       " Row(_c0='3300741', name='at&t', domain='att.com', year founded='1876.0', industry='telecommunications', size range='10001+', locality='dallas, texas, united states', country='united states', linkedin url='linkedin.com/company/at&t', current employee estimate='115188', total employee estimate='269659')]"
      ]
     },
     "execution_count": 6,
     "metadata": {},
     "output_type": "execute_result"
    }
   ],
   "source": [
    "# review the first 10 records\n",
    "companies.take(10)"
   ]
  },
  {
   "cell_type": "code",
   "execution_count": 8,
   "metadata": {},
   "outputs": [
    {
     "name": "stdout",
     "output_type": "stream",
     "text": [
      "+-------+------------------+\n",
      "|summary|      year founded|\n",
      "+-------+------------------+\n",
      "|  count|           3566539|\n",
      "|   mean|2001.7467488403838|\n",
      "| stddev|20.966201464333643|\n",
      "|    min|  \"\"allhotels\"\"​)\"|\n",
      "|    max|           россия\"|\n",
      "+-------+------------------+\n",
      "\n"
     ]
    }
   ],
   "source": [
    "# lets take a closer look at year founded, we expect this to be numeric\n",
    "companies.describe(['year founded']).show()"
   ]
  },
  {
   "cell_type": "code",
   "execution_count": 9,
   "metadata": {},
   "outputs": [
    {
     "data": {
      "text/plain": [
       "[Row(_c0='4133811', name='\"lore group (trade mark: \"\"lore travel\"\"\\u200b', domain=' \"\"visit armenia\"\"\\u200b', year founded=' \"\"allhotels\"\"\\u200b)\"', industry='loretravel.com', size range='2011.0', locality='leisure, travel & tourism', country='1 - 10', linkedin url=None, current employee estimate=None, total employee estimate='linkedin.com/company/lore-group-trade-mark-lore-travel-visit-armenia-allhotels-')]"
      ]
     },
     "execution_count": 9,
     "metadata": {},
     "output_type": "execute_result"
    }
   ],
   "source": [
    "#from the summary, it appears that the file was not parsed correctly. Let's take a closer look at one of the records\n",
    "companies.filter(companies[\"year founded\"].contains('allhotels')).take(1)"
   ]
  },
  {
   "cell_type": "code",
   "execution_count": 9,
   "metadata": {},
   "outputs": [],
   "source": [
    "# it appears the escape character is the double-quote character, let's reload the file\n",
    "companies = spark.read.csv(\n",
    "        \"companies_sorted.csv\", \n",
    "         header=True, inferSchema=True, escape='\"')"
   ]
  },
  {
   "cell_type": "code",
   "execution_count": 10,
   "metadata": {},
   "outputs": [
    {
     "name": "stdout",
     "output_type": "stream",
     "text": [
      "+-------+------------------+\n",
      "|summary|      year founded|\n",
      "+-------+------------------+\n",
      "|  count|           3566452|\n",
      "|   mean|2001.7466646029852|\n",
      "| stddev| 20.96628369220692|\n",
      "|    min|            1451.0|\n",
      "|    max|    sporting goods|\n",
      "+-------+------------------+\n",
      "\n"
     ]
    }
   ],
   "source": [
    "# lets look at 'year founded' again\n",
    "companies.describe(['year founded']).show()"
   ]
  },
  {
   "cell_type": "code",
   "execution_count": 11,
   "metadata": {},
   "outputs": [
    {
     "data": {
      "text/plain": [
       "[Row(_c0='www.edsports.co.uk\"', name=None, domain=None, year founded='sporting goods', industry='1 - 10', size range='riverhead, new york, united states', locality='united states', country='linkedin.com/company/edwards-sports-ctr', linkedin url='0', current employee estimate=1, total employee estimate=None)]"
      ]
     },
     "execution_count": 11,
     "metadata": {},
     "output_type": "execute_result"
    }
   ],
   "source": [
    "# from the summary, the file is still not parsed correctly. Lets take a closer look at one of the records\n",
    "companies.filter(companies[\"year founded\"].contains('sporting goods')).take(1)"
   ]
  },
  {
   "cell_type": "code",
   "execution_count": 12,
   "metadata": {},
   "outputs": [],
   "source": [
    "# the first column of that row parsed incorrectly, It starts with a domain name which suggests a multi-line issue\n",
    "companies = spark.read.csv(\n",
    "        \"companies_sorted.csv\",\n",
    "        header=True, inferSchema=True, escape='\"', multiLine=True)"
   ]
  },
  {
   "cell_type": "code",
   "execution_count": 14,
   "metadata": {},
   "outputs": [
    {
     "name": "stdout",
     "output_type": "stream",
     "text": [
      "+-------+------------------+\n",
      "|summary|      year founded|\n",
      "+-------+------------------+\n",
      "|  count|           3566446|\n",
      "|   mean|2001.7466685322026|\n",
      "| stddev|20.966273484947724|\n",
      "|    min|            1451.0|\n",
      "|    max|            2103.0|\n",
      "+-------+------------------+\n",
      "\n"
     ]
    }
   ],
   "source": [
    "# lets look at 'year founded' again\n",
    "companies.describe(['year founded']).show()"
   ]
  },
  {
   "cell_type": "code",
   "execution_count": 13,
   "metadata": {},
   "outputs": [
    {
     "data": {
      "text/plain": [
       "[('_c0', 'int'),\n",
       " ('name', 'string'),\n",
       " ('domain', 'string'),\n",
       " ('year founded', 'double'),\n",
       " ('industry', 'string'),\n",
       " ('size range', 'string'),\n",
       " ('locality', 'string'),\n",
       " ('country', 'string'),\n",
       " ('linkedin url', 'string'),\n",
       " ('current employee estimate', 'int'),\n",
       " ('total employee estimate', 'int')]"
      ]
     },
     "execution_count": 13,
     "metadata": {},
     "output_type": "execute_result"
    }
   ],
   "source": [
    "# let review schema detected again\n",
    "companies.dtypes"
   ]
  },
  {
   "cell_type": "code",
   "execution_count": 14,
   "metadata": {},
   "outputs": [
    {
     "data": {
      "text/plain": [
       "7173426"
      ]
     },
     "execution_count": 14,
     "metadata": {},
     "output_type": "execute_result"
    }
   ],
   "source": [
    "# review record count again\n",
    "companies.count()"
   ]
  },
  {
   "cell_type": "code",
   "execution_count": 15,
   "metadata": {},
   "outputs": [
    {
     "data": {
      "text/plain": [
       "['_c0',\n",
       " 'name',\n",
       " 'domain',\n",
       " 'year founded',\n",
       " 'industry',\n",
       " 'size range',\n",
       " 'locality',\n",
       " 'country',\n",
       " 'linkedin url',\n",
       " 'current employee estimate',\n",
       " 'total employee estimate']"
      ]
     },
     "execution_count": 15,
     "metadata": {},
     "output_type": "execute_result"
    }
   ],
   "source": [
    "# review column names\n",
    "companies.columns"
   ]
  },
  {
   "cell_type": "code",
   "execution_count": 16,
   "metadata": {},
   "outputs": [],
   "source": [
    "#rename column\n",
    "companies = companies.withColumnRenamed('_c0','rowNum')"
   ]
  },
  {
   "cell_type": "code",
   "execution_count": 17,
   "metadata": {},
   "outputs": [
    {
     "data": {
      "text/plain": [
       "['rowNum',\n",
       " 'name',\n",
       " 'domain',\n",
       " 'year founded',\n",
       " 'industry',\n",
       " 'size range',\n",
       " 'locality',\n",
       " 'country',\n",
       " 'linkedin url',\n",
       " 'current employee estimate',\n",
       " 'total employee estimate']"
      ]
     },
     "execution_count": 17,
     "metadata": {},
     "output_type": "execute_result"
    }
   ],
   "source": [
    "# review column names\n",
    "companies.columns"
   ]
  },
  {
   "cell_type": "code",
   "execution_count": 18,
   "metadata": {},
   "outputs": [],
   "source": [
    "# filter companies with no domain name\n",
    "companies = companies.filter(companies.domain.isNotNull())"
   ]
  },
  {
   "cell_type": "code",
   "execution_count": 19,
   "metadata": {},
   "outputs": [
    {
     "name": "stdout",
     "output_type": "stream",
     "text": [
      "+--------------------+\n",
      "|             country|\n",
      "+--------------------+\n",
      "|            guernsey|\n",
      "|               aruba|\n",
      "|             finland|\n",
      "|           australia|\n",
      "|              greece|\n",
      "|           greenland|\n",
      "|            portugal|\n",
      "|              israel|\n",
      "|             ukraine|\n",
      "|             nigeria|\n",
      "|netherlands antilles|\n",
      "|              angola|\n",
      "|             eritrea|\n",
      "|         timor-leste|\n",
      "|              zambia|\n",
      "|        cook islands|\n",
      "|          seychelles|\n",
      "|       liechtenstein|\n",
      "|             bermuda|\n",
      "|               macau|\n",
      "|          uzbekistan|\n",
      "|              kosovo|\n",
      "|           guatemala|\n",
      "|                iraq|\n",
      "|              poland|\n",
      "|         south korea|\n",
      "|             austria|\n",
      "|                fiji|\n",
      "|           mauritius|\n",
      "|      american samoa|\n",
      "|          kazakhstan|\n",
      "|           nicaragua|\n",
      "|              kuwait|\n",
      "|        turkmenistan|\n",
      "|            anguilla|\n",
      "|         saint lucia|\n",
      "|               niger|\n",
      "|           gibraltar|\n",
      "|             albania|\n",
      "|                mali|\n",
      "|                guam|\n",
      "|               malta|\n",
      "|bosnia and herzeg...|\n",
      "|             morocco|\n",
      "|             lebanon|\n",
      "|               japan|\n",
      "|         new zealand|\n",
      "|         switzerland|\n",
      "|          luxembourg|\n",
      "|             moldova|\n",
      "+--------------------+\n",
      "only showing top 50 rows\n",
      "\n"
     ]
    }
   ],
   "source": [
    "#lets review a unique list of countries\n",
    "companies.select('country').distinct().show(50)"
   ]
  },
  {
   "cell_type": "code",
   "execution_count": 20,
   "metadata": {},
   "outputs": [
    {
     "name": "stdout",
     "output_type": "stream",
     "text": [
      "+--------------+-------+\n",
      "|       country|  count|\n",
      "+--------------+-------+\n",
      "| united states|1767278|\n",
      "|          null|1566173|\n",
      "|united kingdom| 379198|\n",
      "|        canada| 166860|\n",
      "|         india| 130023|\n",
      "|   netherlands| 128183|\n",
      "|         spain| 116353|\n",
      "|       germany| 110269|\n",
      "|     australia| 107341|\n",
      "|        brazil|  99109|\n",
      "|        france|  96682|\n",
      "|         italy|  93344|\n",
      "|       belgium|  36173|\n",
      "|        turkey|  33353|\n",
      "|        sweden|  32537|\n",
      "|         china|  31572|\n",
      "|        mexico|  31154|\n",
      "|   switzerland|  30255|\n",
      "|       denmark|  27366|\n",
      "|  south africa|  24708|\n",
      "+--------------+-------+\n",
      "only showing top 20 rows\n",
      "\n"
     ]
    }
   ],
   "source": [
    "# lets review a unique list of countries and record count\n",
    "companies.groupBy('country').count().sort('count', ascending=False).show()"
   ]
  },
  {
   "cell_type": "code",
   "execution_count": 21,
   "metadata": {},
   "outputs": [
    {
     "name": "stdout",
     "output_type": "stream",
     "text": [
      "+--------------------+-------+\n",
      "|            locality|  count|\n",
      "+--------------------+-------+\n",
      "|                null|1693997|\n",
      "|london, greater l...|  69075|\n",
      "|new york, new yor...|  55494|\n",
      "|madrid, madrid, s...|  35381|\n",
      "|paris, île-de-fra...|  29995|\n",
      "|chicago, illinois...|  26203|\n",
      "|los angeles, cali...|  25786|\n",
      "|toronto, ontario,...|  25706|\n",
      "|san francisco, ca...|  24830|\n",
      "|sao paulo, sao pa...|  23631|\n",
      "+--------------------+-------+\n",
      "only showing top 10 rows\n",
      "\n"
     ]
    }
   ],
   "source": [
    "# lets review a unique list of locality and record count, \n",
    "# Observe that show action truncates the locality string.\n",
    "companies.groupBy('locality').count().sort('count', ascending=False).show(10)"
   ]
  },
  {
   "cell_type": "code",
   "execution_count": 22,
   "metadata": {},
   "outputs": [
    {
     "name": "stdout",
     "output_type": "stream",
     "text": [
      "+----------------------------------------+-------+\n",
      "|locality                                |count  |\n",
      "+----------------------------------------+-------+\n",
      "|null                                    |1693997|\n",
      "|london, greater london, united kingdom  |69075  |\n",
      "|new york, new york, united states       |55494  |\n",
      "|madrid, madrid, spain                   |35381  |\n",
      "|paris, île-de-france, france            |29995  |\n",
      "|chicago, illinois, united states        |26203  |\n",
      "|los angeles, california, united states  |25786  |\n",
      "|toronto, ontario, canada                |25706  |\n",
      "|san francisco, california, united states|24830  |\n",
      "|sao paulo, sao paulo, brazil            |23631  |\n",
      "|houston, texas, united states           |23630  |\n",
      "|london, london, united kingdom          |22855  |\n",
      "|bombay, maharashtra, india              |18061  |\n",
      "|atlanta, georgia, united states         |17052  |\n",
      "|barcelona, catalonia, spain             |17046  |\n",
      "|austin, texas, united states            |16640  |\n",
      "|san diego, california, united states    |15789  |\n",
      "|dallas, texas, united states            |15474  |\n",
      "|dubai, dubai, united arab emirates      |15031  |\n",
      "|montréal, quebec, canada                |14008  |\n",
      "+----------------------------------------+-------+\n",
      "only showing top 20 rows\n",
      "\n"
     ]
    }
   ],
   "source": [
    "# use an additional parameter for show command\n",
    "# See documentation for parameters: https://spark.apache.org/docs/3.1.2/api/python/_modules/pyspark/sql/dataframe.html#DataFrame.show\n",
    "companies.groupBy('locality').count().sort('count', ascending=False).show(truncate=False)"
   ]
  },
  {
   "cell_type": "code",
   "execution_count": 23,
   "metadata": {},
   "outputs": [
    {
     "name": "stdout",
     "output_type": "stream",
     "text": [
      "+-----------+-------+\n",
      "|comma_count|  count|\n",
      "+-----------+-------+\n",
      "|          0|1693997|\n",
      "|          2|3828808|\n",
      "+-----------+-------+\n",
      "\n"
     ]
    }
   ],
   "source": [
    "# lets verify that each locality has exactly 2 commas (when locality is available)\n",
    "# This is an example of calling methods on RDD directly, map function not available in DataFrame. \n",
    "# Usually method calls on DataFrames are more efficient because it can be optimized by the spark platform\n",
    "companies.rdd.map(\n",
    "    lambda company : (\n",
    "        company['locality'].count(\",\") if company['locality'] is not None else 0,\n",
    "        )).toDF(['comma_count']).groupBy('comma_count').count().show(10)"
   ]
  },
  {
   "cell_type": "code",
   "execution_count": 24,
   "metadata": {},
   "outputs": [],
   "source": [
    "# parse city and state from locality\n",
    "companies = companies\\\n",
    "                .withColumn('city', F.split(companies['locality'], ',')[0])\\\n",
    "                .withColumn('state', F.split(companies['locality'], ',')[1])"
   ]
  },
  {
   "cell_type": "code",
   "execution_count": 25,
   "metadata": {},
   "outputs": [
    {
     "name": "stdout",
     "output_type": "stream",
     "text": [
      "+-------------------------+-----+\n",
      "|name                     |count|\n",
      "+-------------------------+-----+\n",
      "|independent consultant   |40   |\n",
      "|private practice         |40   |\n",
      "|consultant               |37   |\n",
      "|independent              |33   |\n",
      "|indépendant              |27   |\n",
      "|independent contractor   |26   |\n",
      "|private                  |25   |\n",
      "|confidential             |22   |\n",
      "|autónomo                 |22   |\n",
      "|profesional independiente|20   |\n",
      "|shift                    |19   |\n",
      "|{displayname}            |18   |\n",
      "|entrepreneur             |18   |\n",
      "|selbstständig            |18   |\n",
      "|independiente            |18   |\n",
      "|elevate                  |17   |\n",
      "|autônomo                 |17   |\n",
      "|indigo                   |17   |\n",
      "|law firm                 |17   |\n",
      "|cmi                      |16   |\n",
      "|various                  |16   |\n",
      "|aspire                   |15   |\n",
      "|libero professionista    |15   |\n",
      "|studio legale            |14   |\n",
      "|autonomo                 |14   |\n",
      "|author                   |14   |\n",
      "|zelfstandige             |14   |\n",
      "|spark                    |14   |\n",
      "|real estate              |14   |\n",
      "|ignite                   |14   |\n",
      "|clarity                  |14   |\n",
      "|engage                   |14   |\n",
      "|evolve                   |14   |\n",
      "|the bridge               |13   |\n",
      "|mosaic                   |13   |\n",
      "|selbständig              |13   |\n",
      "|neon                     |13   |\n",
      "|director                 |13   |\n",
      "|momentum                 |12   |\n",
      "|nexus                    |12   |\n",
      "|sprout                   |12   |\n",
      "|acs                      |12   |\n",
      "|free lance               |12   |\n",
      "|ics                      |12   |\n",
      "|rise                     |12   |\n",
      "|integra                  |11   |\n",
      "|writer                   |11   |\n",
      "|canopy                   |11   |\n",
      "|hatch                    |11   |\n",
      "|blink                    |11   |\n",
      "+-------------------------+-----+\n",
      "only showing top 50 rows\n",
      "\n"
     ]
    }
   ],
   "source": [
    "#identify most popular company names\n",
    "companies.groupBy('name').count()\\\n",
    "        .orderBy(\"count\", ascending=False)\\\n",
    "        .show(50, truncate=False)"
   ]
  },
  {
   "cell_type": "code",
   "execution_count": 27,
   "metadata": {},
   "outputs": [],
   "source": [
    "# When more than 1 companies share a name, we will like to keep the company with the most employees. \n",
    "# To do this use the window function within the name partition; \n",
    "# name count for rows with the same name\n",
    "# row number for rows with the same name in the order of the employee estimate\n",
    "companies = companies.withColumn(\"name_count\", F.count(\"*\").over(\n",
    "                        Window.partitionBy(\"name\")))\\\n",
    "                .withColumn(\"row_num\", F.row_number().over(\n",
    "                        Window.partitionBy(\"name\").orderBy(F.desc(\"total employee estimate\"))))"
   ]
  },
  {
   "cell_type": "code",
   "execution_count": 28,
   "metadata": {},
   "outputs": [
    {
     "name": "stdout",
     "output_type": "stream",
     "text": [
      "+--------------------+--------------+-----------------------------------+-----------------------+----------+-------+\n",
      "|name                |country       |industry                           |total employee estimate|name_count|row_num|\n",
      "+--------------------+--------------+-----------------------------------+-----------------------+----------+-------+\n",
      "|11th hour marketing |united states |marketing and advertising          |3                      |2         |1      |\n",
      "|11th hour marketing |united states |marketing and advertising          |1                      |2         |2      |\n",
      "|3dguy               |south africa  |design                             |4                      |2         |1      |\n",
      "|3dguy               |united states |media production                   |3                      |2         |2      |\n",
      "|4hd                 |null          |information technology and services|1                      |2         |1      |\n",
      "|4hd                 |united states |management consulting              |1                      |2         |2      |\n",
      "|548 capital llc     |united states |environmental services             |2                      |2         |1      |\n",
      "|548 capital llc     |united states |environmental services             |1                      |2         |2      |\n",
      "|above design        |null          |graphic design                     |1                      |2         |1      |\n",
      "|above design        |philippines   |design                             |1                      |2         |2      |\n",
      "|ac plus marine, inc.|united states |null                               |2                      |2         |1      |\n",
      "|ac plus marine, inc.|united states |maritime                           |2                      |2         |2      |\n",
      "|ad infinitum        |united states |marketing and advertising          |5                      |3         |1      |\n",
      "|ad infinitum        |united states |marketing and advertising          |5                      |3         |2      |\n",
      "|ad infinitum        |null          |information technology and services|1                      |3         |3      |\n",
      "|advanced group      |united states |staffing and recruiting            |48                     |2         |1      |\n",
      "|advanced group      |united kingdom|telecommunications                 |13                     |2         |2      |\n",
      "|advogado            |null          |law practice                       |2819                   |5         |1      |\n",
      "|advogado            |brazil        |judiciary                          |7                      |5         |2      |\n",
      "|advogado            |null          |judiciary                          |4                      |5         |3      |\n",
      "+--------------------+--------------+-----------------------------------+-----------------------+----------+-------+\n",
      "only showing top 20 rows\n",
      "\n"
     ]
    }
   ],
   "source": [
    "# preview the result of the window function, observe row_num. we are going to drop any row where row_num != 1\n",
    "companies.select('name','country','industry',\n",
    "                'total employee estimate', 'name_count', 'row_num')\\\n",
    "        .filter('name_count>1')\\\n",
    "        .show(truncate=False)"
   ]
  },
  {
   "cell_type": "code",
   "execution_count": 29,
   "metadata": {},
   "outputs": [],
   "source": [
    "# Filter out row_num>1, this are the companies with the duplicate names to be eliminated\n",
    "companies = companies.filter('row_num=1')"
   ]
  },
  {
   "cell_type": "code",
   "execution_count": 30,
   "metadata": {},
   "outputs": [
    {
     "name": "stdout",
     "output_type": "stream",
     "text": [
      "+-----------------------------------------------+-----+\n",
      "|name                                           |count|\n",
      "+-----------------------------------------------+-----+\n",
      "|\"40-02\" search advertisement agency            |1    |\n",
      "|\"dental care with a difference\"®, pc           |1    |\n",
      "|\"increase business sales\" travel incentives    |1    |\n",
      "|\"kazakhmys drilling\" тоо                       |1    |\n",
      "|#socentcph - social entrepreneurship copenhagen|1    |\n",
      "|&proud                                         |1    |\n",
      "|'freshxpressions'                              |1    |\n",
      "|(a2d) addicted 2 decor atx, llc                |1    |\n",
      "|(ipc) industrial power cooling ltd.            |1    |\n",
      "|+opinião                                       |1    |\n",
      "|- dnb -                                        |1    |\n",
      "|...theendofirony.net                           |1    |\n",
      "|.::: shoppe :::.                               |1    |\n",
      "|.guōshí                                        |1    |\n",
      "|.me ideias - house gráfica                     |1    |\n",
      "|.puntozero                                     |1    |\n",
      "|.riess engineering europe gmbh                 |1    |\n",
      "|.vantronix secure systems                      |1    |\n",
      "|/de/co                                         |1    |\n",
      "|/shrb                                          |1    |\n",
      "|01 comunicazione                               |1    |\n",
      "|021 cape town's event magazine                 |1    |\n",
      "|0301 consulting                                |1    |\n",
      "|040 in beelden                                 |1    |\n",
      "|040 verloskunde 't noorden & de boreling       |1    |\n",
      "|075 merken, strategie & design                 |1    |\n",
      "|1 800 asphalt llc                              |1    |\n",
      "|1 touch low voltage                            |1    |\n",
      "|1-800support                                   |1    |\n",
      "|1-866-u-moving                                 |1    |\n",
      "|1-louder .:.                                   |1    |\n",
      "|1-stop fingerprinting                          |1    |\n",
      "|10 atmósferas estudio                          |1    |\n",
      "|10 year’s staff co.ltd.                        |1    |\n",
      "|1001 nights shisha lounge                      |1    |\n",
      "|101 corporation                                |1    |\n",
      "|1049 productions                               |1    |\n",
      "|108 fine art                                   |1    |\n",
      "|10bet                                          |1    |\n",
      "|10xl                                           |1    |\n",
      "|111pix ua                                      |1    |\n",
      "|12 points solutions                            |1    |\n",
      "|12systems gmbh                                 |1    |\n",
      "|14haussmann                                    |1    |\n",
      "|169 labs gmbh                                  |1    |\n",
      "|1701, llc                                      |1    |\n",
      "|1810 tavern                                    |1    |\n",
      "|19pixels                                       |1    |\n",
      "|1er sur internet                               |1    |\n",
      "|1marka si̇gorta aracilik hi̇z. a.ş             |1    |\n",
      "+-----------------------------------------------+-----+\n",
      "only showing top 50 rows\n",
      "\n"
     ]
    }
   ],
   "source": [
    "# are there still duplicate names?\n",
    "companies.groupBy('name').count().orderBy(\"count\", ascending=False).show(50, truncate=False)"
   ]
  },
  {
   "cell_type": "code",
   "execution_count": 31,
   "metadata": {},
   "outputs": [],
   "source": [
    "# drop window columns\n",
    "companies = companies.drop(\"row_num\").drop(\"name_count\")"
   ]
  },
  {
   "cell_type": "code",
   "execution_count": 32,
   "metadata": {},
   "outputs": [],
   "source": [
    "# create  dataframe with the top cities i.e. cities with over a 1000 companies\n",
    "top_cities = companies.groupBy('city','state')\\\n",
    "        .count().sort('count', ascending=False)\\\n",
    "        .filter('count>1000')"
   ]
  },
  {
   "cell_type": "code",
   "execution_count": 33,
   "metadata": {},
   "outputs": [
    {
     "name": "stdout",
     "output_type": "stream",
     "text": [
      "+-------------+---------------+-------+\n",
      "|         city|          state|  count|\n",
      "+-------------+---------------+-------+\n",
      "|         null|           null|1673030|\n",
      "|       london| greater london|  67942|\n",
      "|     new york|       new york|  54609|\n",
      "|       madrid|         madrid|  35015|\n",
      "|        paris|  île-de-france|  29490|\n",
      "|      chicago|       illinois|  25847|\n",
      "|  los angeles|     california|  25344|\n",
      "|      toronto|        ontario|  25274|\n",
      "|san francisco|     california|  24237|\n",
      "|    sao paulo|      sao paulo|  23393|\n",
      "|      houston|          texas|  23313|\n",
      "|       london|         london|  22419|\n",
      "|       bombay|    maharashtra|  17907|\n",
      "|    barcelona|      catalonia|  16875|\n",
      "|      atlanta|        georgia|  16775|\n",
      "|       austin|          texas|  16396|\n",
      "|    san diego|     california|  15593|\n",
      "|       dallas|          texas|  15270|\n",
      "|        dubai|          dubai|  14846|\n",
      "|     montréal|         quebec|  13807|\n",
      "+-------------+---------------+-------+\n",
      "only showing top 20 rows\n",
      "\n"
     ]
    }
   ],
   "source": [
    "# review the top cities\n",
    "top_cities.show()"
   ]
  },
  {
   "cell_type": "code",
   "execution_count": 34,
   "metadata": {},
   "outputs": [],
   "source": [
    "# Using the companies dataset only return rows where city and state exists in the top_cities dataframe\n",
    "companies_in_top_cities = companies.join(top_cities, \n",
    "                    (companies.city==top_cities.city) & \n",
    "                    (companies.state==top_cities.state),\n",
    "                    'inner').select(companies['*'])"
   ]
  },
  {
   "cell_type": "code",
   "execution_count": 35,
   "metadata": {},
   "outputs": [
    {
     "name": "stdout",
     "output_type": "stream",
     "text": [
      "+--------------+------------------+-----+\n",
      "|          city|             state|count|\n",
      "+--------------+------------------+-----+\n",
      "|     stavanger|          rogaland| 1001|\n",
      "|  gaithersburg|          maryland| 1005|\n",
      "|        moscow|            moscow| 1005|\n",
      "|    north york|           ontario| 1012|\n",
      "|     frederick|          maryland| 1013|\n",
      "|       barueri|         sao paulo| 1016|\n",
      "|       lansing|          michigan| 1026|\n",
      "|     brentwood|         tennessee| 1028|\n",
      "|       sharjah|           sharjah| 1030|\n",
      "| staten island|          new york| 1030|\n",
      "|        duluth|           georgia| 1031|\n",
      "|       lubbock|             texas| 1033|\n",
      "|       denmark| western australia| 1034|\n",
      "|west hollywood|        california| 1036|\n",
      "|  white plains|          new york| 1038|\n",
      "|      la jolla|        california| 1041|\n",
      "|        carmel|           indiana| 1042|\n",
      "|       ipswich|           suffolk| 1042|\n",
      "|       vaughan|           ontario| 1046|\n",
      "|          baku|              baki| 1050|\n",
      "+--------------+------------------+-----+\n",
      "only showing top 20 rows\n",
      "\n"
     ]
    }
   ],
   "source": [
    "#review the top cities in this new dataset in ascending order of company count\n",
    "companies_in_top_cities.groupBy('city','state')\\\n",
    "        .count().sort('count', ascending=True)\\\n",
    "            .show()"
   ]
  },
  {
   "cell_type": "code",
   "execution_count": null,
   "metadata": {},
   "outputs": [],
   "source": []
  }
 ],
 "metadata": {
  "kernelspec": {
   "display_name": "Python 3",
   "language": "python",
   "name": "python3"
  },
  "language_info": {
   "codemirror_mode": {
    "name": "ipython",
    "version": 3
   },
   "file_extension": ".py",
   "mimetype": "text/x-python",
   "name": "python",
   "nbconvert_exporter": "python",
   "pygments_lexer": "ipython3",
   "version": "3.8.10"
  }
 },
 "nbformat": 4,
 "nbformat_minor": 4
}
